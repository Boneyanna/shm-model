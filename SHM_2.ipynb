{
  "cells": [
    {
      "cell_type": "markdown",
      "metadata": {
        "id": "EoRP98MpR-qj"
      },
      "source": [
        "## Importing the libraries"
      ]
    },
    {
      "cell_type": "code",
      "execution_count": null,
      "metadata": {
        "id": "R-GmDRQRHgVT"
      },
      "outputs": [],
      "source": [
        "\n",
        "import numpy as np\n",
        "import matplotlib.pyplot as plt\n",
        "import pandas as pd\n",
        "import math\n",
        "import datetime\n"
      ]
    },
    {
      "cell_type": "markdown",
      "metadata": {
        "id": "RopL7tUZSQkT"
      },
      "source": [
        "## SHM Model set up"
      ]
    },
    {
      "cell_type": "code",
      "execution_count": null,
      "metadata": {
        "id": "Zx-5_ot_IxyW"
      },
      "outputs": [],
      "source": [
        "#setting control variables\n",
        "num_ts = 6000\n",
        "# Set up and initialise all SHM related variables\n",
        "#attributes such as catchment area and timestep (5min)in seconds set as dictionary\n",
        "cat_attr = {\"cat_area\":55000000, \"timestep\": 300 }\n",
        "#catchment paras in order - critical temp, melting factor, beta, sumax, threshold, kf, perc, kin,kb\n",
        "cat_para = {\"t_crit\":0.7, \"cat_dd\":0.0001, \"cat_beta\":1.8, \"cat_sumax\":0.15,\"cat_thresh\":0.0016, \"cat_kf\":6,\"cat_perc\":0.25,\"cat_ki\":250,\"cat_kb\":40000}  \n",
        "cat_flux = pd.DataFrame(columns=['cat_qsin', 'cat_qsout', 'cat_qspout','cat_qfin','cat_quin','cat_qfout','cat_quout','cat_et','cat_qiin','cat_qiout','cat_qbin','cat_qbout','cat_qout'], index=range(num_ts))\n",
        "cat_state = pd.DataFrame(columns=['cat_ss','cat_sf','cat_su','cat_si','cat_sb'], index =range(num_ts))\n",
        "cat_flux.iloc[0][:] = 0;  # initial flux\n",
        "cat_state.iloc[0][:] = 0; # initial state\n",
        "cat_state.cat_su[0] = 0.15   #initial state of unsaturated zone\n",
        "cat_state.cat_sb [0] = 0.027 #initial state of baseflow reservoir"
      ]
    },
    {
      "cell_type": "markdown",
      "metadata": {
        "id": "1Soeh7B7Y9Br"
      },
      "source": [
        "#Forcing and evidence data"
      ]
    },
    {
      "cell_type": "code",
      "execution_count": null,
      "metadata": {
        "colab": {
          "base_uri": "https://localhost:8080/"
        },
        "id": "wmQV9OfRMRf8",
        "outputId": "19e5101f-3780-48c3-aa62-919b1a0a8c7f"
      },
      "outputs": [],
      "source": [
        "data_filename = open(\"forcing_data.csv\")\n",
        "data_all = np.loadtxt(data_filename,delimiter = ',')\n",
        "forcing_data = data_all[0:num_ts,:-1].transpose()\n",
        "Observed_data = data_all [0:num_ts,-1].transpose()\n",
        "base = datetime.datetime(2007, 1, 1,0,5,0)\n",
        "Date_time_series = np.array([base + datetime.timedelta(minutes= 5*i) for i in range(0,num_ts)])\n",
        "Date_time_series.shape"
      ]
    },
    {
      "cell_type": "markdown",
      "metadata": {
        "id": "nhfKXNxlSabC"
      },
      "source": [
        "## Model Prediction"
      ]
    },
    {
      "cell_type": "code",
      "execution_count": null,
      "metadata": {
        "id": "x2ge7uDuQHdr"
      },
      "outputs": [],
      "source": [
        "from shm.catchment_process import prediction  # importing the catchment process function\n",
        "q = np.zeros((1,num_ts))\n",
        "for t in range(1,num_ts):   #running the function in loops\n",
        "  (q[0,t],cat_state.iloc[t][:], cat_flux.iloc[t][:]) = prediction(forcing_data[:,t],cat_state.iloc[t-1][:],cat_flux.iloc[t-1][:],cat_para,cat_attr )   # loop over all time-steps\n",
        "\n"
      ]
    },
    {
      "cell_type": "code",
      "execution_count": null,
      "metadata": {
        "colab": {
          "base_uri": "https://localhost:8080/",
          "height": 427
        },
        "id": "yjXEExRjka9J",
        "outputId": "255f68ca-170c-4b42-fbdb-a3d5685f54d5"
      },
      "outputs": [],
      "source": [
        "plt.figure(figsize=(8, 6), dpi=80)\n",
        "#plt.plot(Date_time_series,cat_flux[12,:] )\n",
        "plt.plot(Date_time_series,q.transpose())\n",
        "plt.xlabel(\"DateTime\")\n",
        "plt.ylabel(\"discharge\")\n",
        "plt.show()"
      ]
    }
  ],
  "metadata": {
    "colab": {
      "collapsed_sections": [],
      "name": "SHM_2.ipynb",
      "provenance": []
    },
    "kernelspec": {
      "display_name": "Python 3",
      "name": "python3"
    },
    "language_info": {
      "codemirror_mode": {
        "name": "ipython",
        "version": 3
      },
      "file_extension": ".py",
      "mimetype": "text/x-python",
      "name": "python",
      "nbconvert_exporter": "python",
      "pygments_lexer": "ipython3",
      "version": "3.9.7"
    }
  },
  "nbformat": 4,
  "nbformat_minor": 0
}
